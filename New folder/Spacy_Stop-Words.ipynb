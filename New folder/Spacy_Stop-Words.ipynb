{
 "cells": [
  {
   "cell_type": "markdown",
   "metadata": {},
   "source": [
    "# Stop Words\n",
    "Words like \"a\" and \"the\" appear so frequently that they don't require tagging as thoroughly as nouns, verbs and modifiers. We call these *stop words*, and they can be filtered from the text to be processed. spaCy holds a built-in list of some 305 English stop words."
   ]
  },
  {
   "cell_type": "code",
   "execution_count": 1,
   "metadata": {},
   "outputs": [],
   "source": [
    "# Perform standard imports:\n",
    "import spacy\n",
    "nlp = spacy.load('en_core_web_sm')"
   ]
  },
  {
   "cell_type": "code",
   "execution_count": 2,
   "metadata": {},
   "outputs": [
    {
     "name": "stdout",
     "output_type": "stream",
     "text": [
      "{\"'m\", 'none', 'get', 'or', 'which', 'often', 'latter', 'bottom', 'except', 'into', 'many', 'in', 'even', 'so', 'here', 'together', 'please', 'seems', 'not', 'while', 'serious', 'since', 'between', 'afterwards', 'most', 'at', 'nobody', 'such', 'always', 'too', 'amount', 'used', 'nothing', 'somewhere', 'now', 'yet', 'n‘t', 'whole', 'forty', 'next', 'what', 'side', 'much', 'three', 'yourselves', 'whether', 'as', 'thereafter', 'along', 'had', 'towards', 'ourselves', 'though', 'herein', 'it', 'mine', 'off', '’ll', 'anyway', 'whereafter', 'this', 'whereby', 'besides', 'anyhow', 'become', 'perhaps', \"'d\", 'be', 'became', 'these', 'they', 'he', 'have', 'see', 'therefore', 'within', 'down', 'anywhere', 'yourself', 'something', 'show', 'fifty', 'everything', 'moreover', 'thus', 'yours', 'quite', 'unless', 'more', 'least', 'back', 'everyone', '’s', 'sixty', 'however', 'hers', 'itself', 'nowhere', 'fifteen', 'up', 'if', '’m', 'hundred', 'everywhere', 'can', 'indeed', 'must', 'again', 'ten', 'them', '‘ve', 'eight', 'an', 'about', 'just', 'twenty', 'former', 'through', 'will', 'am', 'across', 'me', 'rather', 'onto', 'seemed', 'alone', 'a', 'beforehand', 'very', 'but', 'our', 'few', 'has', 'would', 'than', 'she', 'else', 'really', \"'re\", 'without', 'no', 'neither', 'nevertheless', 'several', 'ours', 'four', 'behind', 'other', \"n't\", 'over', 'himself', 'meanwhile', 'when', 'whence', 'whereupon', 'eleven', 'may', 'that', 'hence', 'amongst', 'whereas', 'because', 'is', 'being', 'say', 'further', 'on', 'enough', 'upon', 'throughout', \"'ve\", 'various', 'during', 'full', 'around', 'from', 'might', 'nor', 'front', 'elsewhere', 'themselves', 'seeming', 'either', \"'s\", 'those', 'and', 'thru', 'doing', '‘s', 'whatever', 'wherever', 'his', 'once', 'its', '’re', 'give', 'via', 'were', 'been', 'does', 'how', 'cannot', 'put', 'him', 'n’t', 'whose', '’ve', '‘re', 'the', 'thereby', 'noone', 'somehow', 'all', 'formerly', 'against', 'one', \"'ll\", 'becoming', 'sometime', 'whom', 'last', 'your', 'per', 'every', 'two', 'below', 'my', 'whenever', 'her', 'to', 'any', 'above', 'due', 'under', 'hereupon', 'call', 'whoever', '‘d', 'why', 'of', 'still', 'hereafter', 'made', 'for', 'should', '‘ll', 'although', 'someone', 'almost', 'myself', '’d', 'among', 'another', 'nine', 'never', 'six', 'was', 'regarding', 'seem', 'name', 'top', 'each', 'namely', 'make', 're', 'ca', 'sometimes', 'hereby', 'wherein', 'then', 'do', 'otherwise', 'whither', 'take', 'beside', 'some', 'i', 'move', 'are', 'could', 'first', 'ever', 'us', 'part', 'after', '‘m', 'by', 'you', 'mostly', 'twelve', 'therein', 'their', 'also', 'thence', 'where', 'beyond', 'done', 'five', 'both', 'empty', 'before', 'latterly', 'until', 'out', 'did', 'we', 'toward', 'there', 'less', 'with', 'own', 'well', 'anyone', 'only', 'go', 'keep', 'becomes', 'third', 'already', 'who', 'thereupon', 'same', 'anything', 'using', 'herself', 'others'}\n"
     ]
    }
   ],
   "source": [
    "# Print the set of spaCy's default stop words (remember that sets are unordered):\n",
    "print(nlp.Defaults.stop_words)"
   ]
  },
  {
   "cell_type": "code",
   "execution_count": 3,
   "metadata": {},
   "outputs": [
    {
     "data": {
      "text/plain": [
       "326"
      ]
     },
     "execution_count": 3,
     "metadata": {},
     "output_type": "execute_result"
    }
   ],
   "source": [
    "len(nlp.Defaults.stop_words)"
   ]
  },
  {
   "cell_type": "markdown",
   "metadata": {},
   "source": [
    "## To see if a word is a stop word"
   ]
  },
  {
   "cell_type": "code",
   "execution_count": 4,
   "metadata": {},
   "outputs": [
    {
     "data": {
      "text/plain": [
       "True"
      ]
     },
     "execution_count": 4,
     "metadata": {},
     "output_type": "execute_result"
    }
   ],
   "source": [
    "nlp.vocab['myself'].is_stop"
   ]
  },
  {
   "cell_type": "code",
   "execution_count": 5,
   "metadata": {},
   "outputs": [
    {
     "data": {
      "text/plain": [
       "False"
      ]
     },
     "execution_count": 5,
     "metadata": {},
     "output_type": "execute_result"
    }
   ],
   "source": [
    "nlp.vocab['mystery'].is_stop"
   ]
  },
  {
   "cell_type": "markdown",
   "metadata": {},
   "source": [
    "## To add a stop word\n",
    "There may be times when you wish to add a stop word to the default set. Perhaps you decide that `'btw'` (common shorthand for \"by the way\") should be considered a stop word."
   ]
  },
  {
   "cell_type": "code",
   "execution_count": 6,
   "metadata": {},
   "outputs": [],
   "source": [
    "# Add the word to the set of stop words. Use lowercase!\n",
    "nlp.Defaults.stop_words.add('btw')\n",
    "\n",
    "# Set the stop_word tag on the lexeme\n",
    "nlp.vocab['btw'].is_stop = True"
   ]
  },
  {
   "cell_type": "code",
   "execution_count": 7,
   "metadata": {},
   "outputs": [
    {
     "data": {
      "text/plain": [
       "327"
      ]
     },
     "execution_count": 7,
     "metadata": {},
     "output_type": "execute_result"
    }
   ],
   "source": [
    "len(nlp.Defaults.stop_words)"
   ]
  },
  {
   "cell_type": "code",
   "execution_count": 8,
   "metadata": {},
   "outputs": [
    {
     "data": {
      "text/plain": [
       "True"
      ]
     },
     "execution_count": 8,
     "metadata": {},
     "output_type": "execute_result"
    }
   ],
   "source": [
    "nlp.vocab['btw'].is_stop"
   ]
  },
  {
   "cell_type": "markdown",
   "metadata": {},
   "source": [
    "<font color=green>When adding stop words, always use lowercase. Lexemes are converted to lowercase before being added to **vocab**.</font>"
   ]
  },
  {
   "cell_type": "markdown",
   "metadata": {},
   "source": [
    "## To remove a stop word\n",
    "Alternatively, you may decide that `'beyond'` should not be considered a stop word."
   ]
  },
  {
   "cell_type": "code",
   "execution_count": 9,
   "metadata": {},
   "outputs": [],
   "source": [
    "# Remove the word from the set of stop words\n",
    "nlp.Defaults.stop_words.remove('beyond')\n",
    "\n",
    "# Remove the stop_word tag from the lexeme\n",
    "nlp.vocab['beyond'].is_stop = False"
   ]
  },
  {
   "cell_type": "code",
   "execution_count": 10,
   "metadata": {},
   "outputs": [
    {
     "data": {
      "text/plain": [
       "326"
      ]
     },
     "execution_count": 10,
     "metadata": {},
     "output_type": "execute_result"
    }
   ],
   "source": [
    "len(nlp.Defaults.stop_words)"
   ]
  },
  {
   "cell_type": "code",
   "execution_count": 11,
   "metadata": {},
   "outputs": [
    {
     "data": {
      "text/plain": [
       "False"
      ]
     },
     "execution_count": 11,
     "metadata": {},
     "output_type": "execute_result"
    }
   ],
   "source": [
    "nlp.vocab['beyond'].is_stop"
   ]
  },
  {
   "cell_type": "markdown",
   "metadata": {},
   "source": [
    "Great! Now you should be able to access spaCy's default set of stop words, and add or remove stop words as needed.\n"
   ]
  }
 ],
 "metadata": {
  "kernelspec": {
   "display_name": "Python 3 (ipykernel)",
   "language": "python",
   "name": "python3"
  },
  "language_info": {
   "codemirror_mode": {
    "name": "ipython",
    "version": 3
   },
   "file_extension": ".py",
   "mimetype": "text/x-python",
   "name": "python",
   "nbconvert_exporter": "python",
   "pygments_lexer": "ipython3",
   "version": "3.10.10"
  }
 },
 "nbformat": 4,
 "nbformat_minor": 2
}

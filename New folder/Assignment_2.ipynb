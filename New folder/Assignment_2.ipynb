{
 "cells": [
  {
   "cell_type": "markdown",
   "id": "32faeac4",
   "metadata": {},
   "source": [
    "### Assignment # 2\n"
   ]
  },
  {
   "cell_type": "markdown",
   "id": "7dfec9f2",
   "metadata": {},
   "source": [
    "Q1. text = \"The quick brown fox jumped over the lazy dog's back.\"\n",
    "For this sentence, print out the following:\n",
    "1. Each token in this sentence\n",
    "2. The Part of Speech of each token\n",
    "3. The tag of each token\n",
    "4. Explain each tag\n",
    "\n",
    "Write the logic in the form of a For loop to go over each token of the sentence. "
   ]
  },
  {
   "cell_type": "markdown",
   "id": "41bbc6e6",
   "metadata": {},
   "source": [
    "Q2. Apply PorterStemmer on the following words and print the output:\n",
    "\n",
    "'sportingly', 'likely', 'mostly', 'education', 'amicably', 'being', 'bagging'"
   ]
  },
  {
   "cell_type": "markdown",
   "id": "d3c1fce5",
   "metadata": {},
   "source": [
    "Q3. Apply SnowballStemmer on the following words and print the output:\n",
    "\n",
    "'sportingly', 'likely', 'mostly', 'education', 'amicably', 'being', 'bagging'"
   ]
  },
  {
   "cell_type": "markdown",
   "id": "e59a2245",
   "metadata": {},
   "source": [
    "Q4. Which do you think is better based on the output of the above words"
   ]
  },
  {
   "cell_type": "markdown",
   "id": "61988be4",
   "metadata": {},
   "source": [
    "Q5. Apply Lemmitization on the same words and print the output"
   ]
  },
  {
   "cell_type": "markdown",
   "id": "e799f5a4",
   "metadata": {},
   "source": [
    "Q6. Which do you think is better between Lemmitization and Stemming, based on the output of the above words."
   ]
  }
 ],
 "metadata": {
  "kernelspec": {
   "display_name": "Python 3 (ipykernel)",
   "language": "python",
   "name": "python3"
  },
  "language_info": {
   "codemirror_mode": {
    "name": "ipython",
    "version": 3
   },
   "file_extension": ".py",
   "mimetype": "text/x-python",
   "name": "python",
   "nbconvert_exporter": "python",
   "pygments_lexer": "ipython3",
   "version": "3.10.10"
  }
 },
 "nbformat": 4,
 "nbformat_minor": 5
}

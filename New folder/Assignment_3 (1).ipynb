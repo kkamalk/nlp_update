{
 "cells": [
  {
   "cell_type": "markdown",
   "id": "ef3e84ec",
   "metadata": {},
   "source": [
    "### Assignment # 3"
   ]
  },
  {
   "cell_type": "code",
   "execution_count": null,
   "id": "17bdd9ca",
   "metadata": {},
   "outputs": [],
   "source": [
    "In the word_vectors_1 notebook it is shown how to use spacy embedding vectors to find similarity between the words or tokens\n",
    "Now, use the embedding vectors to find similarity between 2 full sentences"
   ]
  },
  {
   "cell_type": "markdown",
   "id": "c0b4eec1",
   "metadata": {},
   "source": [
    "### Q1"
   ]
  },
  {
   "cell_type": "markdown",
   "id": "534ab0ec",
   "metadata": {},
   "source": [
    "Q1\n",
    "Find the similarity score between the following sentences:\n",
    "\n",
    "text1 = \"i like salty fries and hamburgers\"\n",
    "text2 = \"fast food tastes very good\"\n",
    "\n",
    "Note: you need to find the similarity score between the 2 full sentences, and NOT the similarity scores between \n",
    "the individual words as was shown in the word_vectors_1 notebook. Provide the python code."
   ]
  },
  {
   "cell_type": "markdown",
   "id": "3fa8f7a8",
   "metadata": {},
   "source": [
    "### Q2"
   ]
  },
  {
   "cell_type": "markdown",
   "id": "99e47b72",
   "metadata": {},
   "source": [
    "Q2\n",
    "Is the similarity score giving a reasonably good indication of the similarity between the 2 sentences? \n",
    "\n",
    "If your answer is YES, you don't need to give any explanation. \n",
    "\n",
    "If your answer is NO, give a probable reason why spacy is getting confused. Why is Spacy getting it wrong?"
   ]
  },
  {
   "cell_type": "markdown",
   "id": "4481c9e6",
   "metadata": {},
   "source": [
    "### Q3"
   ]
  },
  {
   "cell_type": "markdown",
   "id": "cace294c",
   "metadata": {},
   "source": [
    "Q3\n",
    "Find the similarity score between the following sentences:\n",
    "\n",
    "text1 = \"river bank\"\n",
    "text2 = \"bank account\"\n",
    "\n",
    "Note: you need to find the similarity score between the 2 full sentences, and NOT the similarity scores between \n",
    "the individual words as was shown in the word_vectors_1 notebook. Provide the python code"
   ]
  },
  {
   "cell_type": "markdown",
   "id": "02fdf4d6",
   "metadata": {},
   "source": [
    "### Q4"
   ]
  },
  {
   "cell_type": "markdown",
   "id": "fe1ffc60",
   "metadata": {},
   "source": [
    "Q4\n",
    "Is the similarity score giving a reasonably good indication of the similarity between the 2 sentences? \n",
    "\n",
    "If your answer is YES, you don't need to give any explanation. \n",
    "\n",
    "If your answer is NO, give a probable reason why spacy is getting confused. Why is Spacy getting it wrong?"
   ]
  }
 ],
 "metadata": {
  "kernelspec": {
   "display_name": "Python 3 (ipykernel)",
   "language": "python",
   "name": "python3"
  },
  "language_info": {
   "codemirror_mode": {
    "name": "ipython",
    "version": 3
   },
   "file_extension": ".py",
   "mimetype": "text/x-python",
   "name": "python",
   "nbconvert_exporter": "python",
   "pygments_lexer": "ipython3",
   "version": "3.10.10"
  }
 },
 "nbformat": 4,
 "nbformat_minor": 5
}

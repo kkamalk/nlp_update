{
 "cells": [
  {
   "cell_type": "markdown",
   "id": "32faeac4",
   "metadata": {},
   "source": [
    "### Assignment # 1"
   ]
  },
  {
   "cell_type": "markdown",
   "id": "7dfec9f2",
   "metadata": {},
   "source": [
    "Q1. How many default stop words are available in each of the 3 spacy packages: 'en_core_web_sm', 'en_core_web_md', 'en_core_web_sm'. Show it with code."
   ]
  },
  {
   "cell_type": "markdown",
   "id": "41bbc6e6",
   "metadata": {},
   "source": [
    "Q2. Find if the following words are stop words in Spacy \n",
    "1. hundred\n",
    "2. thousand\n",
    "3. top\n",
    "4. bottom\n",
    "5. niggle\n",
    "\n",
    "Use the below command to load spacy\n",
    "nlp = spacy.load('en_core_web_sm'). \n",
    "\n",
    "You have to show the python code and print the output to prove your answer"
   ]
  },
  {
   "cell_type": "markdown",
   "id": "d3c1fce5",
   "metadata": {},
   "source": [
    "Q3. Write the python code to remove the stop words from the following sentence:\n",
    "    \n",
    "\"I am not sure how many stop words are in this sentence but we need to remove all the stop words using coding logic\"\n",
    "\n",
    "You should write a coding logic that will take the original sentence, automatically remove all the stopwords \n",
    "and then print the final resulting sentence. DO NOT MANUALLY DELETE EACH STOP WORD AND PRINT THE REMAINING WORDS."
   ]
  },
  {
   "cell_type": "markdown",
   "id": "e59a2245",
   "metadata": {},
   "source": [
    "Q4. Add the word \"nationality\" as a default stop word. Write the logic to show that you were succesful in including it \n",
    "as a default stopword."
   ]
  }
 ],
 "metadata": {
  "kernelspec": {
   "display_name": "Python 3 (ipykernel)",
   "language": "python",
   "name": "python3"
  },
  "language_info": {
   "codemirror_mode": {
    "name": "ipython",
    "version": 3
   },
   "file_extension": ".py",
   "mimetype": "text/x-python",
   "name": "python",
   "nbconvert_exporter": "python",
   "pygments_lexer": "ipython3",
   "version": "3.10.10"
  }
 },
 "nbformat": 4,
 "nbformat_minor": 5
}
